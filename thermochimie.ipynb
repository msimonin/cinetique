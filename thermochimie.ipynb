{
 "cells": [
  {
   "cell_type": "markdown",
   "metadata": {},
   "source": [
    "## Taux d'avancement en fonction de K° :\n",
    "\n",
    "\n",
    "Dans ce programme, on considère une réaction chimique du type :\n",
    "\n",
    "aA + bB + ... = cC + dD + ...\n",
    "\n",
    "On suppose que le système est homogène (= toutes les espèces appartiennent à la même phase) et on travaille à volume V constant V = 1L. Ainsi, quantités de matière et concentrations correspondent aux même valeurs numériques.\n",
    "Si un réactif est limitant, il doit s'agir de celui noté A."
   ]
  },
  {
   "cell_type": "code",
   "execution_count": 38,
   "metadata": {},
   "outputs": [],
   "source": [
    "import numpy as np\n",
    "import matplotlib.pyplot as plt\n",
    "from functools import partial\n",
    "from IPython.display import display, Markdown, Latex"
   ]
  },
  {
   "cell_type": "code",
   "execution_count": 39,
   "metadata": {},
   "outputs": [],
   "source": [
    " def solve(X, Y):\n",
    "    _abs = np.absolute(Y)\n",
    "    _index = np.argmin(_abs)\n",
    "    return X[_index]\n",
    "\n",
    "def eq(C, N):\n",
    "    \"\"\"Affiche l'équation formattée.\"\"\"\n",
    "\n",
    "\n",
    "    import string\n",
    "    s = []\n",
    "    for coef, letter in zip(C, string.ascii_uppercase):\n",
    "        prefix = \"+\" if coef > 0 else \"-\"\n",
    "        s.append(f\"{prefix}{abs(coef)}{letter}\")\n",
    "    s = \" \".join(s)\n",
    "    s = f\"# $0 = {s}$\"\n",
    "    display(Markdown(s))"
   ]
  },
  {
   "cell_type": "code",
   "execution_count": 45,
   "metadata": {
    "scrolled": false
   },
   "outputs": [],
   "source": [
    "def avancement(C, N):\n",
    "    def F(N, C, x):\n",
    "        a = N + C * x * N[0]/abs(C[0])\n",
    "        Q = np.prod(np.power(a, C))\n",
    "        return Q\n",
    "\n",
    "    f = np.vectorize(partial(F, N, C))\n",
    "\n",
    "    K = 10**np.arange(-6., 7., 0.1)\n",
    "    # on regarde si la réaction peut aller dans l'autre sens\n",
    "    # ie y a des produits à l'instant initial\n",
    "    if (np.prod(N[C>0])!=0):\n",
    "        x0 = -1\n",
    "    else:\n",
    "        x0 = 0\n",
    "    X = np.arange(x0, 1, .001)\n",
    "    taus = []\n",
    "\n",
    "\n",
    "    for k in K:\n",
    "        Y = f(X) - k\n",
    "        tau = solve(X, Y)\n",
    "        taus.append(tau)\n",
    "\n",
    "    # affichage\n",
    "    eq(C, N)\n",
    "    plt.plot(K, taus)\n",
    "    plt.xscale('log')\n",
    "    plt.title(r\"Évolution de $\\tau$ en fonction de $K$\")\n",
    "    plt.ylabel(r\"taux de conversion $\\tau$\")\n",
    "    plt.xlabel(r\"Constante d'équilibre $K$\")\n",
    "    plt.grid(True)\n",
    "    plt.show()\n",
    "    \n",
    "    k = 10**4\n",
    "    Y = f(X) - k\n",
    "    tau = solve(X, Y)\n",
    "    display(Markdown(\"### Pour $K = 10^4$, $\\\\tau=%s$\" % tau))\n"
   ]
  },
  {
   "cell_type": "markdown",
   "metadata": {},
   "source": [
    "## Exemple 1 bla bla"
   ]
  },
  {
   "cell_type": "code",
   "execution_count": 46,
   "metadata": {},
   "outputs": [
    {
     "data": {
      "text/markdown": [
       "# $0 = -1A -1B +1C +1D$"
      ],
      "text/plain": [
       "<IPython.core.display.Markdown object>"
      ]
     },
     "metadata": {},
     "output_type": "display_data"
    },
    {
     "data": {
      "image/png": "[encoded data removed]",
      "text/plain": [
       "<Figure size 432x288 with 1 Axes>"
      ]
     },
     "metadata": {
      "needs_background": "light"
     },
     "output_type": "display_data"
    },
    {
     "data": {
      "text/markdown": [
       "### Pour $K = 10^4$, $\\tau=0.999$"
      ],
      "text/plain": [
       "<IPython.core.display.Markdown object>"
      ]
     },
     "metadata": {},
     "output_type": "display_data"
    }
   ],
   "source": [
    "C = np.asarray([-1, -1, 1, 1])\n",
    "N = np.asarray([0.1, 1, 0, 0])\n",
    "avancement(C, N)\n"
   ]
  },
  {
   "cell_type": "code",
   "execution_count": 51,
   "metadata": {},
   "outputs": [
    {
     "data": {
      "text/markdown": [
       "# $0 = -6A -2B +1C +1D$"
      ],
      "text/plain": [
       "<IPython.core.display.Markdown object>"
      ]
     },
     "metadata": {},
     "output_type": "display_data"
    },
    {
     "data": {
      "image/png": "[encoded data removed]",
      "text/plain": [
       "<Figure size 432x288 with 1 Axes>"
      ]
     },
     "metadata": {
      "needs_background": "light"
     },
     "output_type": "display_data"
    },
    {
     "data": {
      "text/markdown": [
       "### Pour $K = 10^4$, $\\tau=0.873$"
      ],
      "text/plain": [
       "<IPython.core.display.Markdown object>"
      ]
     },
     "metadata": {},
     "output_type": "display_data"
    }
   ],
   "source": [
    "C = np.asarray([-6, -2, 1, 1])\n",
    "N = np.asarray([1, 1, 0, 0])\n",
    "avancement(C, N)"
   ]
  },
  {
   "cell_type": "code",
   "execution_count": null,
   "metadata": {},
   "outputs": [],
   "source": []
  }
 ],
 "metadata": {
  "anaconda-cloud": {},
  "kernelspec": {
   "display_name": "Python 3",
   "language": "python",
   "name": "python3"
  },
  "language_info": {
   "codemirror_mode": {
    "name": "ipython",
    "version": 3
   },
   "file_extension": ".py",
   "mimetype": "text/x-python",
   "name": "python",
   "nbconvert_exporter": "python",
   "pygments_lexer": "ipython3",
   "version": "3.7.6"
  }
 },
 "nbformat": 4,
 "nbformat_minor": 1
}
